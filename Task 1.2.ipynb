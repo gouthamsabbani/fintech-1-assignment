{
 "cells": [
  {
   "cell_type": "code",
   "execution_count": 1,
   "metadata": {},
   "outputs": [
    {
     "name": "stdout",
     "output_type": "stream",
     "text": [
      "2\n"
     ]
    }
   ],
   "source": [
    "import json\n",
    "import requests\n",
    "\n",
    "#The transaction happened between Satoshi and Hal Finney. \n",
    "#From JSON script, block height has been extracted\n",
    "ans=requests.get(\"https://api.whatsonchain.com/v1/bsv/main/block/height/170\")\n",
    "genesis_block=json.loads(ans.text)\n",
    "#Genereates the text count\n",
    "print(genesis_block['txcount'])"
   ]
  },
  {
   "cell_type": "code",
   "execution_count": 2,
   "metadata": {},
   "outputs": [
    {
     "name": "stdout",
     "output_type": "stream",
     "text": [
      "1231731025\n"
     ]
    }
   ],
   "source": [
    "#Generates the time of the block\n",
    "print(genesis_block['time'])"
   ]
  },
  {
   "cell_type": "code",
   "execution_count": 3,
   "metadata": {},
   "outputs": [
    {
     "name": "stdout",
     "output_type": "stream",
     "text": [
      "0\n"
     ]
    }
   ],
   "source": [
    "#Total fees needed for transaction\n",
    "print(genesis_block['totalFees'])"
   ]
  },
  {
   "cell_type": "code",
   "execution_count": 4,
   "metadata": {},
   "outputs": [
    {
     "name": "stdout",
     "output_type": "stream",
     "text": [
      "699467\n"
     ]
    }
   ],
   "source": [
    "#Total number of confirmations\n",
    "print(genesis_block['confirmations'])"
   ]
  },
  {
   "cell_type": "code",
   "execution_count": 5,
   "metadata": {},
   "outputs": [
    {
     "name": "stdout",
     "output_type": "stream",
     "text": [
      "\u0004��\u0000\u001d",
      "\u0001\u0002\n"
     ]
    }
   ],
   "source": [
    "#Generates the medium used for data mining\n",
    "print(genesis_block['miner'])"
   ]
  },
  {
   "cell_type": "code",
   "execution_count": 6,
   "metadata": {},
   "outputs": [
    {
     "name": "stdout",
     "output_type": "stream",
     "text": [
      "2009-01-12 03:30:25\n"
     ]
    }
   ],
   "source": [
    "#Time of transaction happened\n",
    "import datetime\n",
    "timestamp = datetime.datetime.fromtimestamp(genesis_block['time'])\n",
    "print(timestamp.strftime('%Y-%m-%d %H:%M:%S'))"
   ]
  },
  {
   "cell_type": "code",
   "execution_count": 7,
   "metadata": {},
   "outputs": [
    {
     "name": "stdout",
     "output_type": "stream",
     "text": [
      "2\n"
     ]
    }
   ],
   "source": [
    "#The transaction happened for buying Pizza. \n",
    "#From JSON script, block height has been extracted\n",
    "ans=requests.get(\"https://api.whatsonchain.com/v1/bsv/main/block/height/57043\")\n",
    "genesis_block=json.loads(ans.text)\n",
    "print(genesis_block['txcount'])"
   ]
  },
  {
   "cell_type": "code",
   "execution_count": 8,
   "metadata": {},
   "outputs": [
    {
     "name": "stdout",
     "output_type": "stream",
     "text": [
      "1274552191\n"
     ]
    }
   ],
   "source": [
    "#Generates the time of the block\n",
    "print(genesis_block['time'])"
   ]
  },
  {
   "cell_type": "code",
   "execution_count": 9,
   "metadata": {},
   "outputs": [
    {
     "name": "stdout",
     "output_type": "stream",
     "text": [
      "0.990000000000002\n"
     ]
    }
   ],
   "source": [
    "#Total fees needed for transaction\n",
    "print(genesis_block['totalFees'])"
   ]
  },
  {
   "cell_type": "code",
   "execution_count": 10,
   "metadata": {},
   "outputs": [
    {
     "name": "stdout",
     "output_type": "stream",
     "text": [
      "642594\n"
     ]
    }
   ],
   "source": [
    "#Total number of confirmations\n",
    "print(genesis_block['confirmations'])"
   ]
  },
  {
   "cell_type": "code",
   "execution_count": 11,
   "metadata": {},
   "outputs": [
    {
     "name": "stdout",
     "output_type": "stream",
     "text": [
      "\u0004$�\u0015\u001c",
      "\u0001v\n"
     ]
    }
   ],
   "source": [
    "#Generates the medium used for data mining\n",
    "print(genesis_block['miner'])"
   ]
  },
  {
   "cell_type": "code",
   "execution_count": 12,
   "metadata": {},
   "outputs": [
    {
     "name": "stdout",
     "output_type": "stream",
     "text": [
      "2010-05-22 19:16:31\n"
     ]
    }
   ],
   "source": [
    "#Time at which transaction happened\n",
    "import datetime\n",
    "timestamp = datetime.datetime.fromtimestamp(genesis_block['time'])\n",
    "print(timestamp.strftime('%Y-%m-%d %H:%M:%S'))"
   ]
  },
  {
   "cell_type": "code",
   "execution_count": null,
   "metadata": {},
   "outputs": [],
   "source": []
  }
 ],
 "metadata": {
  "kernelspec": {
   "display_name": "Python 3",
   "language": "python",
   "name": "python3"
  },
  "language_info": {
   "codemirror_mode": {
    "name": "ipython",
    "version": 3
   },
   "file_extension": ".py",
   "mimetype": "text/x-python",
   "name": "python",
   "nbconvert_exporter": "python",
   "pygments_lexer": "ipython3",
   "version": "3.8.8"
  }
 },
 "nbformat": 4,
 "nbformat_minor": 4
}
