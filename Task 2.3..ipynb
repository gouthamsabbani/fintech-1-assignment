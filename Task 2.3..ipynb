{
 "cells": [
  {
   "cell_type": "code",
   "execution_count": 1,
   "metadata": {},
   "outputs": [],
   "source": [
    "import pandas as pd\n",
    "from fredapi import Fred\n",
    "fred = Fred(api_key='e7d647d3a626afa2df49109657f48e3e')"
   ]
  },
  {
   "cell_type": "code",
   "execution_count": 2,
   "metadata": {},
   "outputs": [],
   "source": [
    "bitcoinprice = fred.get_series('CBBTCUSD')\n",
    "goldprice = fred.get_series('ID7108')\n",
    "market = fred.get_series('SP500')\n",
    "riskfreerate = fred.get_series('TB3MS')"
   ]
  },
  {
   "cell_type": "code",
   "execution_count": 3,
   "metadata": {},
   "outputs": [],
   "source": [
    "df = pd.concat([bitcoinprice,goldprice,market,riskfreerate], axis=1)"
   ]
  },
  {
   "cell_type": "code",
   "execution_count": 4,
   "metadata": {},
   "outputs": [],
   "source": [
    "df.columns = ('bitcoinprice','goldprice','market','riskfreerate')"
   ]
  },
  {
   "cell_type": "code",
   "execution_count": 5,
   "metadata": {},
   "outputs": [],
   "source": [
    "df = df.loc['2015-06-01':'2020-12-20']"
   ]
  },
  {
   "cell_type": "code",
   "execution_count": 6,
   "metadata": {},
   "outputs": [],
   "source": [
    "df = df.fillna(method='ffill')"
   ]
  },
  {
   "cell_type": "code",
   "execution_count": 7,
   "metadata": {},
   "outputs": [],
   "source": [
    "df = df[df.index.day==1]"
   ]
  },
  {
   "cell_type": "code",
   "execution_count": 8,
   "metadata": {},
   "outputs": [],
   "source": [
    "df['bt-1'] = df['bitcoinprice'].shift(1)\n",
    "df['gp-1'] = df['goldprice'].shift(1)\n",
    "df['market-1'] = df['market'].shift(1)"
   ]
  },
  {
   "cell_type": "code",
   "execution_count": 9,
   "metadata": {},
   "outputs": [],
   "source": [
    "import numpy as np"
   ]
  },
  {
   "cell_type": "code",
   "execution_count": 10,
   "metadata": {},
   "outputs": [],
   "source": [
    "df['log_b'] = np.log(df['bitcoinprice'])/df['bitcoinprice'].shift(1)\n",
    "df['log_g'] = np.log(df['goldprice'])/df['goldprice'].shift(1)\n",
    "df['log_m'] = np.log(df['market'])/df['market'].shift(1)\n",
    "df['rfr-1'] = df['riskfreerate']/1200"
   ]
  },
  {
   "cell_type": "code",
   "execution_count": 11,
   "metadata": {},
   "outputs": [],
   "source": [
    "rbt = df[\"log_b\"]\n",
    "rgt = df[\"log_g\"]\n",
    "rmt = df[\"log_b\"]\n",
    "rft = df[\"rfr-1\"]"
   ]
  },
  {
   "cell_type": "code",
   "execution_count": 12,
   "metadata": {},
   "outputs": [],
   "source": [
    "#Used for calculating correlations\n",
    "corr1 = rbt.corr(rgt)\n",
    "corr2 = rbt.corr(rmt)"
   ]
  },
  {
   "cell_type": "code",
   "execution_count": 13,
   "metadata": {},
   "outputs": [
    {
     "data": {
      "text/plain": [
       "0.5825614763054296"
      ]
     },
     "execution_count": 13,
     "metadata": {},
     "output_type": "execute_result"
    }
   ],
   "source": [
    "corr1"
   ]
  },
  {
   "cell_type": "code",
   "execution_count": 14,
   "metadata": {},
   "outputs": [
    {
     "data": {
      "text/plain": [
       "1.0"
      ]
     },
     "execution_count": 14,
     "metadata": {},
     "output_type": "execute_result"
    }
   ],
   "source": [
    "corr2"
   ]
  },
  {
   "cell_type": "code",
   "execution_count": 15,
   "metadata": {},
   "outputs": [],
   "source": [
    "#Dropping the index for calculating regression\n",
    "df=df.drop(df.index[0])"
   ]
  },
  {
   "cell_type": "code",
   "execution_count": 16,
   "metadata": {},
   "outputs": [],
   "source": [
    "rbt = df[\"log_b\"]\n",
    "rgt = df[\"log_g\"]\n",
    "rmt = df[\"log_b\"]\n",
    "rft = df[\"rfr-1\"]"
   ]
  },
  {
   "cell_type": "code",
   "execution_count": 17,
   "metadata": {},
   "outputs": [
    {
     "name": "stdout",
     "output_type": "stream",
     "text": [
      "Requirement already satisfied: scikit-learn in /Users/goutham/opt/anaconda3/lib/python3.8/site-packages (0.24.2)\n",
      "Requirement already satisfied: numpy>=1.13.3 in /Users/goutham/opt/anaconda3/lib/python3.8/site-packages (from scikit-learn) (1.20.1)\n",
      "Requirement already satisfied: scipy>=0.19.1 in /Users/goutham/opt/anaconda3/lib/python3.8/site-packages (from scikit-learn) (1.6.2)\n",
      "Requirement already satisfied: threadpoolctl>=2.0.0 in /Users/goutham/opt/anaconda3/lib/python3.8/site-packages (from scikit-learn) (2.1.0)\n",
      "Requirement already satisfied: joblib>=0.11 in /Users/goutham/opt/anaconda3/lib/python3.8/site-packages (from scikit-learn) (1.0.1)\n",
      "Note: you may need to restart the kernel to use updated packages.\n"
     ]
    }
   ],
   "source": [
    "pip install -U scikit-learn"
   ]
  },
  {
   "cell_type": "code",
   "execution_count": 18,
   "metadata": {},
   "outputs": [],
   "source": [
    "from sklearn.linear_model import LinearRegression"
   ]
  },
  {
   "cell_type": "code",
   "execution_count": 19,
   "metadata": {},
   "outputs": [],
   "source": [
    "x = rbt - rft\n",
    "y = rgt - rft\n",
    "z = rmt - rft"
   ]
  },
  {
   "cell_type": "code",
   "execution_count": 20,
   "metadata": {},
   "outputs": [],
   "source": [
    "y = y.values.reshape(-1, 1)\n",
    "x = x.values.reshape(-1, 1)\n",
    "z = z.values.reshape(-1, 1)"
   ]
  },
  {
   "cell_type": "code",
   "execution_count": 21,
   "metadata": {},
   "outputs": [],
   "source": [
    "lr=LinearRegression()"
   ]
  },
  {
   "cell_type": "code",
   "execution_count": 22,
   "metadata": {},
   "outputs": [
    {
     "name": "stdout",
     "output_type": "stream",
     "text": [
      "[2.60208521e-18] [[1.]]\n"
     ]
    }
   ],
   "source": [
    "#Regress x on z\n",
    "lr.fit(x,z)\n",
    "print(lr.intercept_, lr.coef_)\n",
    "#In this case α = 2.60208521e-18 and β = 1, This means that as the x increases by 1%, then the value of bitcoin will increase by 2.6021 "
   ]
  },
  {
   "cell_type": "code",
   "execution_count": 23,
   "metadata": {},
   "outputs": [
    {
     "name": "stdout",
     "output_type": "stream",
     "text": [
      "[-0.04016107] [[3.7502841]]\n"
     ]
    }
   ],
   "source": [
    "#Regress y on z\n",
    "lr.fit(y,z)\n",
    "print(lr.intercept_, lr.coef_)\n",
    "#In this case α = -0.04016107 and β = 3.7502841, This means that as the x increases by 1%, then the value of goldprice will decrease by 3.7503"
   ]
  },
  {
   "cell_type": "code",
   "execution_count": null,
   "metadata": {},
   "outputs": [],
   "source": []
  }
 ],
 "metadata": {
  "kernelspec": {
   "display_name": "Python 3",
   "language": "python",
   "name": "python3"
  },
  "language_info": {
   "codemirror_mode": {
    "name": "ipython",
    "version": 3
   },
   "file_extension": ".py",
   "mimetype": "text/x-python",
   "name": "python",
   "nbconvert_exporter": "python",
   "pygments_lexer": "ipython3",
   "version": "3.8.8"
  }
 },
 "nbformat": 4,
 "nbformat_minor": 4
}
